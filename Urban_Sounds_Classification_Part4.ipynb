{
  "nbformat": 4,
  "nbformat_minor": 0,
  "metadata": {
    "colab": {
      "provenance": [],
      "collapsed_sections": [],
      "mount_file_id": "1nYSMVr_Yye5AJc9plZfN7os0V9wORDXq",
      "authorship_tag": "ABX9TyNjiTm0h1yrZjahfwKi3W1p",
      "include_colab_link": true
    },
    "kernelspec": {
      "name": "python3",
      "display_name": "Python 3"
    },
    "language_info": {
      "name": "python"
    },
    "accelerator": "GPU"
  },
  "cells": [
    {
      "cell_type": "markdown",
      "metadata": {
        "id": "view-in-github",
        "colab_type": "text"
      },
      "source": [
        "<a href=\"https://colab.research.google.com/github/ociragan/AIHub_DL_SummerCamp_Group4_alltogether/blob/main/Urban_Sounds_Classification_Part4.ipynb\" target=\"_parent\"><img src=\"https://colab.research.google.com/assets/colab-badge.svg\" alt=\"Open In Colab\"/></a>"
      ]
    },
    {
      "cell_type": "code",
      "execution_count": null,
      "metadata": {
        "id": "7Q04nvUqPEUV"
      },
      "outputs": [],
      "source": [
        "import pandas as pd\n",
        "import numpy as np\n",
        "import matplotlib.pyplot as plt"
      ]
    },
    {
      "cell_type": "code",
      "source": [
        "listX = ['X1', 'X2', 'X3', 'X4', 'X5', 'X6', 'X7', 'X8', 'X9', 'X10']\n",
        "listy = ['y1', 'y2', 'y3', 'y4', 'y5', 'y6', 'y7', 'y8', 'y9', 'y10']"
      ],
      "metadata": {
        "id": "oDzRHGFNPixV"
      },
      "execution_count": null,
      "outputs": []
    },
    {
      "cell_type": "code",
      "source": [
        "X1 = np.load(\"/content/drive/MyDrive/UrbanSound8K/data/X1.npy\")\n",
        "X2 = np.load(\"/content/drive/MyDrive/UrbanSound8K/data/X2.npy\")\n",
        "X3 = np.load(\"/content/drive/MyDrive/UrbanSound8K/data/X3.npy\")\n",
        "X4 = np.load(\"/content/drive/MyDrive/UrbanSound8K/data/X4.npy\")\n",
        "X5 = np.load(\"/content/drive/MyDrive/UrbanSound8K/data/X5.npy\")\n",
        "X6 = np.load(\"/content/drive/MyDrive/UrbanSound8K/data/X6.npy\")\n",
        "X7 = np.load(\"/content/drive/MyDrive/UrbanSound8K/data/X7.npy\")\n",
        "X8 = np.load(\"/content/drive/MyDrive/UrbanSound8K/data/X8.npy\")\n",
        "X9 = np.load(\"/content/drive/MyDrive/UrbanSound8K/data/X9.npy\")\n",
        "X10 = np.load(\"/content/drive/MyDrive/UrbanSound8K/data/X10.npy\")"
      ],
      "metadata": {
        "id": "dBabbVhtP__B"
      },
      "execution_count": null,
      "outputs": []
    },
    {
      "cell_type": "code",
      "source": [
        "y1 = np.load(\"/content/drive/MyDrive/UrbanSound8K/data/y1.npy\")\n",
        "y2 = np.load(\"/content/drive/MyDrive/UrbanSound8K/data/y2.npy\")\n",
        "y3 = np.load(\"/content/drive/MyDrive/UrbanSound8K/data/y3.npy\")\n",
        "y4 = np.load(\"/content/drive/MyDrive/UrbanSound8K/data/y4.npy\")\n",
        "y5 = np.load(\"/content/drive/MyDrive/UrbanSound8K/data/y5.npy\")\n",
        "y6 = np.load(\"/content/drive/MyDrive/UrbanSound8K/data/y6.npy\")\n",
        "y7 = np.load(\"/content/drive/MyDrive/UrbanSound8K/data/y7.npy\")\n",
        "y8 = np.load(\"/content/drive/MyDrive/UrbanSound8K/data/y8.npy\")\n",
        "y9 = np.load(\"/content/drive/MyDrive/UrbanSound8K/data/y9.npy\")\n",
        "y10 = np.load(\"/content/drive/MyDrive/UrbanSound8K/data/y10.npy\")"
      ],
      "metadata": {
        "id": "AISS6NNWQbEM"
      },
      "execution_count": null,
      "outputs": []
    },
    {
      "cell_type": "code",
      "source": [
        "X_train = np.concatenate((X2, X3, X4, X5, X6, X7, X8, X9), axis=0)\n",
        "X_test = X10\n",
        "X_val = X1"
      ],
      "metadata": {
        "id": "8E79N1ZiXowL"
      },
      "execution_count": null,
      "outputs": []
    },
    {
      "cell_type": "code",
      "source": [
        "print(f\"X_train shape is: {X_train.shape}\")\n",
        "print(f\"X_test shape is: {X_test.shape}\")\n",
        "print(f\"X_val shape is: {X_val.shape}\")"
      ],
      "metadata": {
        "colab": {
          "base_uri": "https://localhost:8080/"
        },
        "id": "RrQUn437YvK4",
        "outputId": "2c710172-9e95-43db-9b1e-320a405abbb9"
      },
      "execution_count": null,
      "outputs": [
        {
          "output_type": "stream",
          "name": "stdout",
          "text": [
            "X_train shape is: (7022, 50, 50)\n",
            "X_test shape is: (837, 50, 50)\n",
            "X_val shape is: (873, 50, 50)\n"
          ]
        }
      ]
    },
    {
      "cell_type": "code",
      "source": [
        "y_train = np.concatenate((y2, y3, y4, y5, y6, y7, y8, y9), axis=0)\n",
        "y_test = y10\n",
        "y_val = y1"
      ],
      "metadata": {
        "id": "ABSUdFxfZdzX"
      },
      "execution_count": null,
      "outputs": []
    },
    {
      "cell_type": "code",
      "source": [
        "print(f\"y_train shape is: {y_train.shape}\")\n",
        "print(f\"y_test shape is: {y_test.shape}\")\n",
        "print(f\"y_val shape is: {y_val.shape}\")"
      ],
      "metadata": {
        "colab": {
          "base_uri": "https://localhost:8080/"
        },
        "id": "MHcA86xzZuEz",
        "outputId": "d6d30ab6-4f00-47a5-db7d-b099d5da4269"
      },
      "execution_count": null,
      "outputs": [
        {
          "output_type": "stream",
          "name": "stdout",
          "text": [
            "y_train shape is: (7022,)\n",
            "y_test shape is: (837,)\n",
            "y_val shape is: (873,)\n"
          ]
        }
      ]
    },
    {
      "cell_type": "code",
      "source": [
        "print(np.unique(y_train, return_counts=True))\n",
        "print(np.unique(y_test, return_counts=True))\n",
        "print(np.unique(y_val, return_counts=True))"
      ],
      "metadata": {
        "colab": {
          "base_uri": "https://localhost:8080/"
        },
        "id": "3hXJG6d3aCWj",
        "outputId": "ffc4455a-24f4-4da1-9ba2-9bd2b415985a"
      },
      "execution_count": null,
      "outputs": [
        {
          "output_type": "stream",
          "name": "stdout",
          "text": [
            "(array([0, 1, 2, 3, 4, 5, 6, 7, 8, 9]), array([800, 360, 800, 800, 800, 811, 307, 784, 760, 800]))\n",
            "(array([0, 1, 2, 3, 4, 5, 6, 7, 8, 9]), array([100,  33, 100, 100, 100,  93,  32,  96,  83, 100]))\n",
            "(array([0, 1, 2, 3, 4, 5, 6, 7, 8, 9]), array([100,  36, 100, 100, 100,  96,  35, 120,  86, 100]))\n"
          ]
        }
      ]
    },
    {
      "cell_type": "code",
      "source": [
        "import tensorflow as tf\n",
        "from tensorflow.keras.models import Sequential\n",
        "from tensorflow.keras.layers import Conv2D, Flatten, Dense, MaxPool2D, Dropout\n",
        "from tensorflow.keras.utils import to_categorical \n",
        "from sklearn.metrics import classification_report\n",
        "from tensorflow.keras.callbacks import EarlyStopping"
      ],
      "metadata": {
        "id": "8_OSZSrJbzMM"
      },
      "execution_count": null,
      "outputs": []
    },
    {
      "cell_type": "code",
      "source": [
        "X_train.reshape(X_train.shape[0],50,50,1)\n",
        "X_test.reshape(X_test.shape[0],50,50,1)\n",
        "X_val.reshape(X_val.shape[0],50,50,1)"
      ],
      "metadata": {
        "colab": {
          "base_uri": "https://localhost:8080/"
        },
        "id": "w6Cf7MY9cl1z",
        "outputId": "1ea00ad4-0b4e-42f1-e845-51d2ee04734f"
      },
      "execution_count": null,
      "outputs": [
        {
          "output_type": "execute_result",
          "data": {
            "text/plain": [
              "array([[[[0.        ],\n",
              "         [0.        ],\n",
              "         [0.        ],\n",
              "         ...,\n",
              "         [0.        ],\n",
              "         [0.        ],\n",
              "         [0.        ]],\n",
              "\n",
              "        [[0.        ],\n",
              "         [0.        ],\n",
              "         [0.        ],\n",
              "         ...,\n",
              "         [0.        ],\n",
              "         [0.        ],\n",
              "         [0.        ]],\n",
              "\n",
              "        [[0.        ],\n",
              "         [0.        ],\n",
              "         [0.        ],\n",
              "         ...,\n",
              "         [0.        ],\n",
              "         [0.        ],\n",
              "         [0.        ]],\n",
              "\n",
              "        ...,\n",
              "\n",
              "        [[0.        ],\n",
              "         [0.        ],\n",
              "         [0.        ],\n",
              "         ...,\n",
              "         [0.        ],\n",
              "         [0.        ],\n",
              "         [0.        ]],\n",
              "\n",
              "        [[0.        ],\n",
              "         [0.        ],\n",
              "         [0.        ],\n",
              "         ...,\n",
              "         [0.        ],\n",
              "         [0.        ],\n",
              "         [0.        ]],\n",
              "\n",
              "        [[0.        ],\n",
              "         [0.        ],\n",
              "         [0.        ],\n",
              "         ...,\n",
              "         [0.        ],\n",
              "         [0.        ],\n",
              "         [0.        ]]],\n",
              "\n",
              "\n",
              "       [[[0.        ],\n",
              "         [0.        ],\n",
              "         [0.        ],\n",
              "         ...,\n",
              "         [0.        ],\n",
              "         [0.        ],\n",
              "         [0.        ]],\n",
              "\n",
              "        [[0.        ],\n",
              "         [0.        ],\n",
              "         [0.        ],\n",
              "         ...,\n",
              "         [0.        ],\n",
              "         [0.        ],\n",
              "         [0.        ]],\n",
              "\n",
              "        [[0.        ],\n",
              "         [0.        ],\n",
              "         [0.        ],\n",
              "         ...,\n",
              "         [0.        ],\n",
              "         [0.        ],\n",
              "         [0.        ]],\n",
              "\n",
              "        ...,\n",
              "\n",
              "        [[0.        ],\n",
              "         [0.        ],\n",
              "         [0.        ],\n",
              "         ...,\n",
              "         [0.        ],\n",
              "         [0.06666667],\n",
              "         [0.00392157]],\n",
              "\n",
              "        [[0.        ],\n",
              "         [0.        ],\n",
              "         [0.        ],\n",
              "         ...,\n",
              "         [0.00784314],\n",
              "         [0.        ],\n",
              "         [0.        ]],\n",
              "\n",
              "        [[0.        ],\n",
              "         [0.        ],\n",
              "         [0.        ],\n",
              "         ...,\n",
              "         [0.        ],\n",
              "         [0.        ],\n",
              "         [0.        ]]],\n",
              "\n",
              "\n",
              "       [[[0.        ],\n",
              "         [0.        ],\n",
              "         [0.        ],\n",
              "         ...,\n",
              "         [0.        ],\n",
              "         [0.        ],\n",
              "         [0.        ]],\n",
              "\n",
              "        [[0.        ],\n",
              "         [0.        ],\n",
              "         [0.        ],\n",
              "         ...,\n",
              "         [0.        ],\n",
              "         [0.        ],\n",
              "         [0.        ]],\n",
              "\n",
              "        [[0.        ],\n",
              "         [0.        ],\n",
              "         [0.        ],\n",
              "         ...,\n",
              "         [0.        ],\n",
              "         [0.        ],\n",
              "         [0.        ]],\n",
              "\n",
              "        ...,\n",
              "\n",
              "        [[0.01960784],\n",
              "         [0.00392157],\n",
              "         [0.        ],\n",
              "         ...,\n",
              "         [0.        ],\n",
              "         [0.        ],\n",
              "         [0.        ]],\n",
              "\n",
              "        [[0.        ],\n",
              "         [0.        ],\n",
              "         [0.        ],\n",
              "         ...,\n",
              "         [0.        ],\n",
              "         [0.        ],\n",
              "         [0.        ]],\n",
              "\n",
              "        [[0.        ],\n",
              "         [0.        ],\n",
              "         [0.        ],\n",
              "         ...,\n",
              "         [0.        ],\n",
              "         [0.        ],\n",
              "         [0.        ]]],\n",
              "\n",
              "\n",
              "       ...,\n",
              "\n",
              "\n",
              "       [[[0.        ],\n",
              "         [0.        ],\n",
              "         [0.        ],\n",
              "         ...,\n",
              "         [0.        ],\n",
              "         [0.        ],\n",
              "         [0.        ]],\n",
              "\n",
              "        [[0.        ],\n",
              "         [0.        ],\n",
              "         [0.        ],\n",
              "         ...,\n",
              "         [0.        ],\n",
              "         [0.        ],\n",
              "         [0.        ]],\n",
              "\n",
              "        [[0.        ],\n",
              "         [0.        ],\n",
              "         [0.        ],\n",
              "         ...,\n",
              "         [0.        ],\n",
              "         [0.        ],\n",
              "         [0.        ]],\n",
              "\n",
              "        ...,\n",
              "\n",
              "        [[0.47058824],\n",
              "         [0.4745098 ],\n",
              "         [0.47058824],\n",
              "         ...,\n",
              "         [0.50196078],\n",
              "         [0.48235294],\n",
              "         [0.6       ]],\n",
              "\n",
              "        [[0.41568627],\n",
              "         [0.40784314],\n",
              "         [0.38431373],\n",
              "         ...,\n",
              "         [0.46666667],\n",
              "         [0.40392157],\n",
              "         [0.39607843]],\n",
              "\n",
              "        [[0.30588235],\n",
              "         [0.31764706],\n",
              "         [0.32156863],\n",
              "         ...,\n",
              "         [0.12156863],\n",
              "         [0.36078431],\n",
              "         [0.2745098 ]]],\n",
              "\n",
              "\n",
              "       [[[0.        ],\n",
              "         [0.        ],\n",
              "         [0.        ],\n",
              "         ...,\n",
              "         [0.        ],\n",
              "         [0.        ],\n",
              "         [0.        ]],\n",
              "\n",
              "        [[0.        ],\n",
              "         [0.        ],\n",
              "         [0.        ],\n",
              "         ...,\n",
              "         [0.        ],\n",
              "         [0.        ],\n",
              "         [0.        ]],\n",
              "\n",
              "        [[0.        ],\n",
              "         [0.        ],\n",
              "         [0.        ],\n",
              "         ...,\n",
              "         [0.        ],\n",
              "         [0.        ],\n",
              "         [0.        ]],\n",
              "\n",
              "        ...,\n",
              "\n",
              "        [[0.56470588],\n",
              "         [0.65490196],\n",
              "         [0.58823529],\n",
              "         ...,\n",
              "         [0.48627451],\n",
              "         [0.49411765],\n",
              "         [0.56862745]],\n",
              "\n",
              "        [[0.38039216],\n",
              "         [0.39607843],\n",
              "         [0.43921569],\n",
              "         ...,\n",
              "         [0.48627451],\n",
              "         [0.42745098],\n",
              "         [0.41960784]],\n",
              "\n",
              "        [[0.04705882],\n",
              "         [0.03137255],\n",
              "         [0.02745098],\n",
              "         ...,\n",
              "         [0.21960784],\n",
              "         [0.21960784],\n",
              "         [0.15686275]]],\n",
              "\n",
              "\n",
              "       [[[0.        ],\n",
              "         [0.        ],\n",
              "         [0.        ],\n",
              "         ...,\n",
              "         [0.        ],\n",
              "         [0.        ],\n",
              "         [0.        ]],\n",
              "\n",
              "        [[0.        ],\n",
              "         [0.        ],\n",
              "         [0.        ],\n",
              "         ...,\n",
              "         [0.        ],\n",
              "         [0.        ],\n",
              "         [0.        ]],\n",
              "\n",
              "        [[0.        ],\n",
              "         [0.        ],\n",
              "         [0.        ],\n",
              "         ...,\n",
              "         [0.        ],\n",
              "         [0.        ],\n",
              "         [0.        ]],\n",
              "\n",
              "        ...,\n",
              "\n",
              "        [[0.45490196],\n",
              "         [0.47058824],\n",
              "         [0.47843137],\n",
              "         ...,\n",
              "         [0.49019608],\n",
              "         [0.38039216],\n",
              "         [0.30980392]],\n",
              "\n",
              "        [[0.25098039],\n",
              "         [0.27843137],\n",
              "         [0.23529412],\n",
              "         ...,\n",
              "         [0.20784314],\n",
              "         [0.17647059],\n",
              "         [0.1372549 ]],\n",
              "\n",
              "        [[0.23529412],\n",
              "         [0.23137255],\n",
              "         [0.21176471],\n",
              "         ...,\n",
              "         [0.25098039],\n",
              "         [0.25490196],\n",
              "         [0.21960784]]]])"
            ]
          },
          "metadata": {},
          "execution_count": 305
        }
      ]
    },
    {
      "cell_type": "code",
      "source": [
        "input_dim = (50,50,1)\n",
        "earlystopping = EarlyStopping(monitor=\"val_loss\", mode=\"min\", verbose=1, patience=3)"
      ],
      "metadata": {
        "id": "noIz_LbtdsXo"
      },
      "execution_count": null,
      "outputs": []
    },
    {
      "cell_type": "code",
      "source": [
        "model = Sequential()"
      ],
      "metadata": {
        "id": "axQnQnLtfcwk"
      },
      "execution_count": null,
      "outputs": []
    },
    {
      "cell_type": "code",
      "source": [
        "model.add(Conv2D(64, (3, 3), activation = \"relu\", strides=(1,1), padding=\"same\", input_shape = input_dim))\n",
        "model.add(MaxPool2D(pool_size=(2, 2)))\n",
        "model.add(Conv2D(64, (3, 3), strides=(1,1), padding=\"same\", activation = \"relu\"))\n",
        "model.add(MaxPool2D(pool_size=(2, 2)))\n",
        "model.add(Conv2D(64, (3, 3), strides=(1,1), padding=\"same\", activation = \"relu\"))\n",
        "model.add(Flatten())\n",
        "model.add(tf.keras.layers.Dense(64, activation=\"relu\"))\n",
        "model.add(tf.keras.layers.Dropout(0.5))\n",
        "model.add(tf.keras.layers.Dense(64, activation=\"relu\"))\n",
        "model.add(tf.keras.layers.Dropout(0.5))\n",
        "model.add(Dense(64, activation = \"relu\"))\n",
        "model.add(Dense(10, activation = \"softmax\"))"
      ],
      "metadata": {
        "id": "RJ1hFaLJfluj"
      },
      "execution_count": null,
      "outputs": []
    },
    {
      "cell_type": "code",
      "source": [
        "model.compile(optimizer = 'adam', loss = 'sparse_categorical_crossentropy', metrics = ['accuracy'])"
      ],
      "metadata": {
        "id": "oW3rXxeBf42j"
      },
      "execution_count": null,
      "outputs": []
    },
    {
      "cell_type": "code",
      "source": [
        "results = model.fit(X_train, y_train, epochs = 50, batch_size = 128, validation_data = (X_val, y_val), callbacks=[earlystopping])"
      ],
      "metadata": {
        "colab": {
          "base_uri": "https://localhost:8080/"
        },
        "id": "F9vk4i9_f-Mi",
        "outputId": "9bac23d8-33f1-4fe5-de94-c861df979750"
      },
      "execution_count": null,
      "outputs": [
        {
          "output_type": "stream",
          "name": "stdout",
          "text": [
            "Epoch 1/50\n",
            "55/55 [==============================] - 2s 27ms/step - loss: 2.1414 - accuracy: 0.1874 - val_loss: 1.9119 - val_accuracy: 0.3471\n",
            "Epoch 2/50\n",
            "55/55 [==============================] - 1s 20ms/step - loss: 1.8268 - accuracy: 0.3117 - val_loss: 1.5752 - val_accuracy: 0.4548\n",
            "Epoch 3/50\n",
            "55/55 [==============================] - 1s 20ms/step - loss: 1.6486 - accuracy: 0.3817 - val_loss: 1.4865 - val_accuracy: 0.5395\n",
            "Epoch 4/50\n",
            "55/55 [==============================] - 1s 20ms/step - loss: 1.5036 - accuracy: 0.4408 - val_loss: 1.3572 - val_accuracy: 0.5762\n",
            "Epoch 5/50\n",
            "55/55 [==============================] - 1s 20ms/step - loss: 1.3927 - accuracy: 0.4852 - val_loss: 1.3839 - val_accuracy: 0.6644\n",
            "Epoch 6/50\n",
            "55/55 [==============================] - 1s 20ms/step - loss: 1.3348 - accuracy: 0.5292 - val_loss: 1.2734 - val_accuracy: 0.6712\n",
            "Epoch 7/50\n",
            "55/55 [==============================] - 1s 20ms/step - loss: 1.2570 - accuracy: 0.5625 - val_loss: 1.2461 - val_accuracy: 0.6472\n",
            "Epoch 8/50\n",
            "55/55 [==============================] - 1s 20ms/step - loss: 1.1923 - accuracy: 0.5869 - val_loss: 1.1698 - val_accuracy: 0.6838\n",
            "Epoch 9/50\n",
            "55/55 [==============================] - 1s 20ms/step - loss: 1.1130 - accuracy: 0.6148 - val_loss: 1.1576 - val_accuracy: 0.6793\n",
            "Epoch 10/50\n",
            "55/55 [==============================] - 1s 20ms/step - loss: 1.0545 - accuracy: 0.6327 - val_loss: 1.1739 - val_accuracy: 0.6816\n",
            "Epoch 11/50\n",
            "55/55 [==============================] - 1s 20ms/step - loss: 1.0245 - accuracy: 0.6552 - val_loss: 1.1917 - val_accuracy: 0.6289\n",
            "Epoch 12/50\n",
            "55/55 [==============================] - 1s 20ms/step - loss: 0.9552 - accuracy: 0.6706 - val_loss: 1.1483 - val_accuracy: 0.6460\n",
            "Epoch 13/50\n",
            "55/55 [==============================] - 1s 20ms/step - loss: 0.8788 - accuracy: 0.6988 - val_loss: 1.1358 - val_accuracy: 0.6735\n",
            "Epoch 14/50\n",
            "55/55 [==============================] - 1s 20ms/step - loss: 0.8451 - accuracy: 0.7126 - val_loss: 1.2134 - val_accuracy: 0.6541\n",
            "Epoch 15/50\n",
            "55/55 [==============================] - 1s 20ms/step - loss: 0.7830 - accuracy: 0.7378 - val_loss: 1.2059 - val_accuracy: 0.6598\n",
            "Epoch 16/50\n",
            "55/55 [==============================] - 1s 20ms/step - loss: 0.7691 - accuracy: 0.7411 - val_loss: 1.2402 - val_accuracy: 0.6426\n",
            "Epoch 16: early stopping\n"
          ]
        }
      ]
    },
    {
      "cell_type": "code",
      "source": [
        "# Plot the the training loss\n",
        "plt.plot(results.history[\"loss\"], label=\"loss\")\n",
        "\n",
        "# Plot the the validation loss\n",
        "plt.plot(results.history[\"val_loss\"], label=\"val_loss\")\n",
        "\n",
        "# Name the x and y axises\n",
        "plt.xlabel(\"Epoch\")\n",
        "plt.ylabel(\"Loss\")\n",
        "\n",
        "# Put legend table\n",
        "plt.legend()\n",
        "\n",
        "# Show the plot\n",
        "plt.show()"
      ],
      "metadata": {
        "colab": {
          "base_uri": "https://localhost:8080/",
          "height": 282
        },
        "id": "twxjRe54hu2y",
        "outputId": "cc12f778-f688-4010-831b-f24c98ea693a"
      },
      "execution_count": null,
      "outputs": [
        {
          "output_type": "display_data",
          "data": {
            "text/plain": [
              "<Figure size 432x288 with 1 Axes>"
            ],
            "image/png": "[encoded data removed]"
          },
          "metadata": {
            "needs_background": "light"
          }
        }
      ]
    },
    {
      "cell_type": "code",
      "source": [
        "predictions = model.predict(X_test)\n",
        "score = model.evaluate(X_test, y_test)\n",
        "print(score)"
      ],
      "metadata": {
        "colab": {
          "base_uri": "https://localhost:8080/"
        },
        "id": "tWIxGn48hjr-",
        "outputId": "dd9211ef-a0d4-4d4a-d748-78c047099b77"
      },
      "execution_count": null,
      "outputs": [
        {
          "output_type": "stream",
          "name": "stdout",
          "text": [
            "27/27 [==============================] - 0s 4ms/step - loss: 1.2687 - accuracy: 0.6655\n",
            "[1.2687222957611084, 0.6654719114303589]\n"
          ]
        }
      ]
    }
  ]
}