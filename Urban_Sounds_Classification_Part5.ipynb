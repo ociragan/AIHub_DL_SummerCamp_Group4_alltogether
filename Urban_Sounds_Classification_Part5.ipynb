{
  "nbformat": 4,
  "nbformat_minor": 0,
  "metadata": {
    "colab": {
      "provenance": [],
      "collapsed_sections": [],
      "mount_file_id": "14xVETeTpkvPif0nZvdXJOdghQn7pefoF",
      "authorship_tag": "ABX9TyPh28zng/N4M1xhd7qazxlK",
      "include_colab_link": true
    },
    "kernelspec": {
      "name": "python3",
      "display_name": "Python 3"
    },
    "language_info": {
      "name": "python"
    },
    "accelerator": "GPU"
  },
  "cells": [
    {
      "cell_type": "markdown",
      "metadata": {
        "id": "view-in-github",
        "colab_type": "text"
      },
      "source": [
        "<a href=\"https://colab.research.google.com/github/ociragan/AIHub_DL_SummerCamp_Group4_alltogether/blob/main/Urban_Sounds_Classification_Part5.ipynb\" target=\"_parent\"><img src=\"https://colab.research.google.com/assets/colab-badge.svg\" alt=\"Open In Colab\"/></a>"
      ]
    },
    {
      "cell_type": "code",
      "execution_count": null,
      "metadata": {
        "id": "7Q04nvUqPEUV"
      },
      "outputs": [],
      "source": [
        "import pandas as pd\n",
        "import numpy as np\n",
        "import matplotlib.pyplot as plt"
      ]
    },
    {
      "cell_type": "code",
      "source": [
        "listX = ['X1', 'X2', 'X3', 'X4', 'X5', 'X6', 'X7', 'X8', 'X9', 'X10']\n",
        "listy = ['y1', 'y2', 'y3', 'y4', 'y5', 'y6', 'y7', 'y8', 'y9', 'y10']"
      ],
      "metadata": {
        "id": "oDzRHGFNPixV"
      },
      "execution_count": null,
      "outputs": []
    },
    {
      "cell_type": "code",
      "source": [
        "X1 = np.load(\"/content/drive/MyDrive/UrbanSound8K/data/X1.npy\")\n",
        "X2 = np.load(\"/content/drive/MyDrive/UrbanSound8K/data/X2.npy\")\n",
        "X3 = np.load(\"/content/drive/MyDrive/UrbanSound8K/data/X3.npy\")\n",
        "X4 = np.load(\"/content/drive/MyDrive/UrbanSound8K/data/X4.npy\")\n",
        "X5 = np.load(\"/content/drive/MyDrive/UrbanSound8K/data/X5.npy\")\n",
        "X6 = np.load(\"/content/drive/MyDrive/UrbanSound8K/data/X6.npy\")\n",
        "X7 = np.load(\"/content/drive/MyDrive/UrbanSound8K/data/X7.npy\")\n",
        "X8 = np.load(\"/content/drive/MyDrive/UrbanSound8K/data/X8.npy\")\n",
        "X9 = np.load(\"/content/drive/MyDrive/UrbanSound8K/data/X9.npy\")\n",
        "X10 = np.load(\"/content/drive/MyDrive/UrbanSound8K/data/X10.npy\")"
      ],
      "metadata": {
        "id": "dBabbVhtP__B"
      },
      "execution_count": null,
      "outputs": []
    },
    {
      "cell_type": "code",
      "source": [
        "y1 = np.load(\"/content/drive/MyDrive/UrbanSound8K/data/y1.npy\")\n",
        "y2 = np.load(\"/content/drive/MyDrive/UrbanSound8K/data/y2.npy\")\n",
        "y3 = np.load(\"/content/drive/MyDrive/UrbanSound8K/data/y3.npy\")\n",
        "y4 = np.load(\"/content/drive/MyDrive/UrbanSound8K/data/y4.npy\")\n",
        "y5 = np.load(\"/content/drive/MyDrive/UrbanSound8K/data/y5.npy\")\n",
        "y6 = np.load(\"/content/drive/MyDrive/UrbanSound8K/data/y6.npy\")\n",
        "y7 = np.load(\"/content/drive/MyDrive/UrbanSound8K/data/y7.npy\")\n",
        "y8 = np.load(\"/content/drive/MyDrive/UrbanSound8K/data/y8.npy\")\n",
        "y9 = np.load(\"/content/drive/MyDrive/UrbanSound8K/data/y9.npy\")\n",
        "y10 = np.load(\"/content/drive/MyDrive/UrbanSound8K/data/y10.npy\")"
      ],
      "metadata": {
        "id": "AISS6NNWQbEM"
      },
      "execution_count": null,
      "outputs": []
    },
    {
      "cell_type": "code",
      "source": [
        "X_train = np.concatenate((X1, X2, X3, X4, X5, X6, X7, X8), axis=0)\n",
        "X_test = X9\n",
        "X_val = X10"
      ],
      "metadata": {
        "id": "8E79N1ZiXowL"
      },
      "execution_count": null,
      "outputs": []
    },
    {
      "cell_type": "code",
      "source": [
        "print(f\"X_train shape is: {X_train.shape}\")\n",
        "print(f\"X_test shape is: {X_test.shape}\")\n",
        "print(f\"X_val shape is: {X_val.shape}\")"
      ],
      "metadata": {
        "colab": {
          "base_uri": "https://localhost:8080/"
        },
        "id": "RrQUn437YvK4",
        "outputId": "ed810e82-eb49-4d27-ef57-8a723a3a6bbd"
      },
      "execution_count": null,
      "outputs": [
        {
          "output_type": "stream",
          "name": "stdout",
          "text": [
            "X_train shape is: (7079, 50, 50)\n",
            "X_test shape is: (816, 50, 50)\n",
            "X_val shape is: (837, 50, 50)\n"
          ]
        }
      ]
    },
    {
      "cell_type": "code",
      "source": [
        "y_train = np.concatenate((y1, y2, y3, y4, y5, y6, y7, y8), axis=0)\n",
        "y_test = y9\n",
        "y_val = y10"
      ],
      "metadata": {
        "id": "ABSUdFxfZdzX"
      },
      "execution_count": null,
      "outputs": []
    },
    {
      "cell_type": "code",
      "source": [
        "print(f\"y_train shape is: {y_train.shape}\")\n",
        "print(f\"y_test shape is: {y_test.shape}\")\n",
        "print(f\"y_val shape is: {y_val.shape}\")"
      ],
      "metadata": {
        "colab": {
          "base_uri": "https://localhost:8080/"
        },
        "id": "MHcA86xzZuEz",
        "outputId": "29c1884a-ac68-4562-e019-6d92c4de9485"
      },
      "execution_count": null,
      "outputs": [
        {
          "output_type": "stream",
          "name": "stdout",
          "text": [
            "y_train shape is: (7079,)\n",
            "y_test shape is: (816,)\n",
            "y_val shape is: (837,)\n"
          ]
        }
      ]
    },
    {
      "cell_type": "code",
      "source": [
        "print(np.unique(y_train, return_counts=True))\n",
        "print(np.unique(y_test, return_counts=True))\n",
        "print(np.unique(y_val, return_counts=True))"
      ],
      "metadata": {
        "colab": {
          "base_uri": "https://localhost:8080/"
        },
        "id": "3hXJG6d3aCWj",
        "outputId": "39e5f10c-2e6e-4f9f-913d-113b62d2af9a"
      },
      "execution_count": null,
      "outputs": [
        {
          "output_type": "stream",
          "name": "stdout",
          "text": [
            "(array([0, 1, 2, 3, 4, 5, 6, 7, 8, 9]), array([800, 364, 800, 800, 800, 818, 311, 822, 764, 800]))\n",
            "(array([0, 1, 2, 3, 4, 5, 6, 7, 8, 9]), array([100,  32, 100, 100, 100,  89,  31,  82,  82, 100]))\n",
            "(array([0, 1, 2, 3, 4, 5, 6, 7, 8, 9]), array([100,  33, 100, 100, 100,  93,  32,  96,  83, 100]))\n"
          ]
        }
      ]
    },
    {
      "cell_type": "code",
      "source": [
        "import tensorflow as tf\n",
        "from tensorflow.keras.models import Sequential\n",
        "from tensorflow.keras.layers import Conv2D, Flatten, Dense, MaxPool2D, Dropout\n",
        "from tensorflow.keras.utils import to_categorical \n",
        "from sklearn.metrics import classification_report\n",
        "from tensorflow.keras.callbacks import EarlyStopping"
      ],
      "metadata": {
        "id": "8_OSZSrJbzMM"
      },
      "execution_count": null,
      "outputs": []
    },
    {
      "cell_type": "code",
      "source": [
        "X_train.reshape(X_train.shape[0],50,50,1)\n",
        "X_test.reshape(X_test.shape[0],50,50,1)\n",
        "X_val.reshape(X_val.shape[0],50,50,1)"
      ],
      "metadata": {
        "colab": {
          "base_uri": "https://localhost:8080/"
        },
        "id": "w6Cf7MY9cl1z",
        "outputId": "ed284f34-f2a6-47d3-b32e-ec1b9cb201d7"
      },
      "execution_count": null,
      "outputs": [
        {
          "output_type": "execute_result",
          "data": {
            "text/plain": [
              "array([[[[0.00392157],\n",
              "         [0.00784314],\n",
              "         [0.01960784],\n",
              "         ...,\n",
              "         [0.        ],\n",
              "         [0.        ],\n",
              "         [0.        ]],\n",
              "\n",
              "        [[0.        ],\n",
              "         [0.        ],\n",
              "         [0.        ],\n",
              "         ...,\n",
              "         [0.        ],\n",
              "         [0.        ],\n",
              "         [0.        ]],\n",
              "\n",
              "        [[0.        ],\n",
              "         [0.        ],\n",
              "         [0.        ],\n",
              "         ...,\n",
              "         [0.        ],\n",
              "         [0.        ],\n",
              "         [0.        ]],\n",
              "\n",
              "        ...,\n",
              "\n",
              "        [[0.40784314],\n",
              "         [0.40784314],\n",
              "         [0.41960784],\n",
              "         ...,\n",
              "         [0.44705882],\n",
              "         [0.44705882],\n",
              "         [0.4627451 ]],\n",
              "\n",
              "        [[0.24313725],\n",
              "         [0.25490196],\n",
              "         [0.29019608],\n",
              "         ...,\n",
              "         [0.38431373],\n",
              "         [0.38431373],\n",
              "         [0.39215686]],\n",
              "\n",
              "        [[0.12156863],\n",
              "         [0.13333333],\n",
              "         [0.16470588],\n",
              "         ...,\n",
              "         [0.19607843],\n",
              "         [0.19607843],\n",
              "         [0.18823529]]],\n",
              "\n",
              "\n",
              "       [[[0.        ],\n",
              "         [0.        ],\n",
              "         [0.        ],\n",
              "         ...,\n",
              "         [0.00392157],\n",
              "         [0.00392157],\n",
              "         [0.00392157]],\n",
              "\n",
              "        [[0.        ],\n",
              "         [0.        ],\n",
              "         [0.        ],\n",
              "         ...,\n",
              "         [0.01176471],\n",
              "         [0.01176471],\n",
              "         [0.01176471]],\n",
              "\n",
              "        [[0.        ],\n",
              "         [0.        ],\n",
              "         [0.        ],\n",
              "         ...,\n",
              "         [0.05490196],\n",
              "         [0.04313725],\n",
              "         [0.01960784]],\n",
              "\n",
              "        ...,\n",
              "\n",
              "        [[0.45490196],\n",
              "         [0.50588235],\n",
              "         [0.51764706],\n",
              "         ...,\n",
              "         [0.42352941],\n",
              "         [0.40784314],\n",
              "         [0.35294118]],\n",
              "\n",
              "        [[0.29411765],\n",
              "         [0.31764706],\n",
              "         [0.32156863],\n",
              "         ...,\n",
              "         [0.3372549 ],\n",
              "         [0.34117647],\n",
              "         [0.34901961]],\n",
              "\n",
              "        [[0.1254902 ],\n",
              "         [0.10588235],\n",
              "         [0.10196078],\n",
              "         ...,\n",
              "         [0.1372549 ],\n",
              "         [0.12941176],\n",
              "         [0.11764706]]],\n",
              "\n",
              "\n",
              "       [[[0.        ],\n",
              "         [0.        ],\n",
              "         [0.        ],\n",
              "         ...,\n",
              "         [0.        ],\n",
              "         [0.        ],\n",
              "         [0.        ]],\n",
              "\n",
              "        [[0.        ],\n",
              "         [0.        ],\n",
              "         [0.        ],\n",
              "         ...,\n",
              "         [0.        ],\n",
              "         [0.        ],\n",
              "         [0.        ]],\n",
              "\n",
              "        [[0.        ],\n",
              "         [0.        ],\n",
              "         [0.        ],\n",
              "         ...,\n",
              "         [0.        ],\n",
              "         [0.        ],\n",
              "         [0.        ]],\n",
              "\n",
              "        ...,\n",
              "\n",
              "        [[0.12156863],\n",
              "         [0.24313725],\n",
              "         [0.24313725],\n",
              "         ...,\n",
              "         [0.43137255],\n",
              "         [0.43137255],\n",
              "         [0.43137255]],\n",
              "\n",
              "        [[0.0745098 ],\n",
              "         [0.14901961],\n",
              "         [0.14901961],\n",
              "         ...,\n",
              "         [0.41960784],\n",
              "         [0.41960784],\n",
              "         [0.41960784]],\n",
              "\n",
              "        [[0.0745098 ],\n",
              "         [0.14509804],\n",
              "         [0.14509804],\n",
              "         ...,\n",
              "         [0.10588235],\n",
              "         [0.10588235],\n",
              "         [0.10588235]]],\n",
              "\n",
              "\n",
              "       ...,\n",
              "\n",
              "\n",
              "       [[[0.43921569],\n",
              "         [0.42745098],\n",
              "         [0.25098039],\n",
              "         ...,\n",
              "         [0.3372549 ],\n",
              "         [0.35294118],\n",
              "         [0.34901961]],\n",
              "\n",
              "        [[0.41960784],\n",
              "         [0.41176471],\n",
              "         [0.34901961],\n",
              "         ...,\n",
              "         [0.25882353],\n",
              "         [0.26666667],\n",
              "         [0.28627451]],\n",
              "\n",
              "        [[0.37647059],\n",
              "         [0.34901961],\n",
              "         [0.25882353],\n",
              "         ...,\n",
              "         [0.18823529],\n",
              "         [0.19607843],\n",
              "         [0.21960784]],\n",
              "\n",
              "        ...,\n",
              "\n",
              "        [[0.41568627],\n",
              "         [0.41960784],\n",
              "         [0.5254902 ],\n",
              "         ...,\n",
              "         [0.46666667],\n",
              "         [0.43137255],\n",
              "         [0.50196078]],\n",
              "\n",
              "        [[0.41176471],\n",
              "         [0.4       ],\n",
              "         [0.38431373],\n",
              "         ...,\n",
              "         [0.23529412],\n",
              "         [0.27843137],\n",
              "         [0.25882353]],\n",
              "\n",
              "        [[0.06666667],\n",
              "         [0.0745098 ],\n",
              "         [0.0745098 ],\n",
              "         ...,\n",
              "         [0.11372549],\n",
              "         [0.1254902 ],\n",
              "         [0.12156863]]],\n",
              "\n",
              "\n",
              "       [[[0.4       ],\n",
              "         [0.37647059],\n",
              "         [0.38039216],\n",
              "         ...,\n",
              "         [0.08627451],\n",
              "         [0.04705882],\n",
              "         [0.        ]],\n",
              "\n",
              "        [[0.29411765],\n",
              "         [0.25882353],\n",
              "         [0.27843137],\n",
              "         ...,\n",
              "         [0.32941176],\n",
              "         [0.20784314],\n",
              "         [0.05882353]],\n",
              "\n",
              "        [[0.21176471],\n",
              "         [0.2       ],\n",
              "         [0.23137255],\n",
              "         ...,\n",
              "         [0.08235294],\n",
              "         [0.02352941],\n",
              "         [0.        ]],\n",
              "\n",
              "        ...,\n",
              "\n",
              "        [[0.50588235],\n",
              "         [0.51764706],\n",
              "         [0.51372549],\n",
              "         ...,\n",
              "         [0.17647059],\n",
              "         [0.16078431],\n",
              "         [0.14509804]],\n",
              "\n",
              "        [[0.23921569],\n",
              "         [0.24705882],\n",
              "         [0.29803922],\n",
              "         ...,\n",
              "         [0.00784314],\n",
              "         [0.00784314],\n",
              "         [0.        ]],\n",
              "\n",
              "        [[0.11764706],\n",
              "         [0.11372549],\n",
              "         [0.11764706],\n",
              "         ...,\n",
              "         [0.        ],\n",
              "         [0.        ],\n",
              "         [0.        ]]],\n",
              "\n",
              "\n",
              "       [[[0.13333333],\n",
              "         [0.12156863],\n",
              "         [0.08235294],\n",
              "         ...,\n",
              "         [0.05098039],\n",
              "         [0.05882353],\n",
              "         [0.07058824]],\n",
              "\n",
              "        [[0.21960784],\n",
              "         [0.1254902 ],\n",
              "         [0.10196078],\n",
              "         ...,\n",
              "         [0.10196078],\n",
              "         [0.08627451],\n",
              "         [0.10196078]],\n",
              "\n",
              "        [[0.10980392],\n",
              "         [0.10196078],\n",
              "         [0.09411765],\n",
              "         ...,\n",
              "         [0.07843137],\n",
              "         [0.08235294],\n",
              "         [0.05882353]],\n",
              "\n",
              "        ...,\n",
              "\n",
              "        [[0.35294118],\n",
              "         [0.27843137],\n",
              "         [0.24705882],\n",
              "         ...,\n",
              "         [0.33333333],\n",
              "         [0.28627451],\n",
              "         [0.23921569]],\n",
              "\n",
              "        [[0.34901961],\n",
              "         [0.30196078],\n",
              "         [0.25882353],\n",
              "         ...,\n",
              "         [0.23529412],\n",
              "         [0.18431373],\n",
              "         [0.11764706]],\n",
              "\n",
              "        [[0.03529412],\n",
              "         [0.01568627],\n",
              "         [0.01960784],\n",
              "         ...,\n",
              "         [0.03529412],\n",
              "         [0.05490196],\n",
              "         [0.05098039]]]])"
            ]
          },
          "metadata": {},
          "execution_count": 40
        }
      ]
    },
    {
      "cell_type": "code",
      "source": [
        "input_dim = (50,50,1)\n",
        "earlystopping = EarlyStopping(monitor=\"val_loss\", mode=\"min\", verbose=1, patience=3)"
      ],
      "metadata": {
        "id": "noIz_LbtdsXo"
      },
      "execution_count": null,
      "outputs": []
    },
    {
      "cell_type": "code",
      "source": [
        "model = Sequential()"
      ],
      "metadata": {
        "id": "axQnQnLtfcwk"
      },
      "execution_count": null,
      "outputs": []
    },
    {
      "cell_type": "code",
      "source": [
        "model.add(Conv2D(32, (3, 3), activation = \"relu\", strides=(1,1), padding=\"same\", input_shape = input_dim))\n",
        "model.add(MaxPool2D(pool_size=(2, 2)))\n",
        "model.add(Conv2D(64, (3, 3), strides=(1,1), padding=\"same\", activation = \"relu\"))\n",
        "model.add(MaxPool2D(pool_size=(2, 2)))\n",
        "model.add(Conv2D(128, (3, 3), strides=(1,1), padding=\"same\", activation = \"relu\"))\n",
        "model.add(Flatten())\n",
        "model.add(tf.keras.layers.Dense(64, activation=\"relu\"))\n",
        "model.add(tf.keras.layers.Dropout(0.5))\n",
        "model.add(tf.keras.layers.Dense(64, activation=\"relu\"))\n",
        "model.add(tf.keras.layers.Dropout(0.5))\n",
        "model.add(Dense(64, activation = \"relu\"))\n",
        "model.add(Dense(10, activation = \"softmax\"))"
      ],
      "metadata": {
        "id": "RJ1hFaLJfluj"
      },
      "execution_count": null,
      "outputs": []
    },
    {
      "cell_type": "code",
      "source": [
        "model.compile(optimizer = 'adam', loss = 'sparse_categorical_crossentropy', metrics = ['accuracy'])"
      ],
      "metadata": {
        "id": "oW3rXxeBf42j"
      },
      "execution_count": null,
      "outputs": []
    },
    {
      "cell_type": "code",
      "source": [
        "results = model.fit(X_train, y_train, epochs = 50, batch_size = 128, validation_data = (X_val, y_val), callbacks=[earlystopping])"
      ],
      "metadata": {
        "colab": {
          "base_uri": "https://localhost:8080/"
        },
        "id": "F9vk4i9_f-Mi",
        "outputId": "e3e06508-b139-4aac-b9f9-76ad95ad6be8"
      },
      "execution_count": null,
      "outputs": [
        {
          "output_type": "stream",
          "name": "stdout",
          "text": [
            "Epoch 1/50\n",
            "56/56 [==============================] - 2s 21ms/step - loss: 2.1457 - accuracy: 0.1955 - val_loss: 1.8088 - val_accuracy: 0.4086\n",
            "Epoch 2/50\n",
            "56/56 [==============================] - 1s 15ms/step - loss: 1.8225 - accuracy: 0.3187 - val_loss: 1.5891 - val_accuracy: 0.4683\n",
            "Epoch 3/50\n",
            "56/56 [==============================] - 1s 15ms/step - loss: 1.6417 - accuracy: 0.3879 - val_loss: 1.4720 - val_accuracy: 0.4863\n",
            "Epoch 4/50\n",
            "56/56 [==============================] - 1s 14ms/step - loss: 1.5039 - accuracy: 0.4465 - val_loss: 1.3771 - val_accuracy: 0.4922\n",
            "Epoch 5/50\n",
            "56/56 [==============================] - 1s 15ms/step - loss: 1.4051 - accuracy: 0.4946 - val_loss: 1.2761 - val_accuracy: 0.5639\n",
            "Epoch 6/50\n",
            "56/56 [==============================] - 1s 15ms/step - loss: 1.2989 - accuracy: 0.5369 - val_loss: 1.2231 - val_accuracy: 0.6022\n",
            "Epoch 7/50\n",
            "56/56 [==============================] - 1s 15ms/step - loss: 1.2041 - accuracy: 0.5764 - val_loss: 1.1563 - val_accuracy: 0.6117\n",
            "Epoch 8/50\n",
            "56/56 [==============================] - 1s 14ms/step - loss: 1.1488 - accuracy: 0.5980 - val_loss: 1.1989 - val_accuracy: 0.6105\n",
            "Epoch 9/50\n",
            "56/56 [==============================] - 1s 15ms/step - loss: 1.0740 - accuracy: 0.6238 - val_loss: 1.1675 - val_accuracy: 0.6129\n",
            "Epoch 10/50\n",
            "56/56 [==============================] - 1s 16ms/step - loss: 1.0010 - accuracy: 0.6485 - val_loss: 1.0927 - val_accuracy: 0.6416\n",
            "Epoch 11/50\n",
            "56/56 [==============================] - 1s 16ms/step - loss: 0.9334 - accuracy: 0.6733 - val_loss: 1.1436 - val_accuracy: 0.6177\n",
            "Epoch 12/50\n",
            "56/56 [==============================] - 1s 16ms/step - loss: 0.8846 - accuracy: 0.6858 - val_loss: 1.1480 - val_accuracy: 0.6225\n",
            "Epoch 13/50\n",
            "56/56 [==============================] - 1s 15ms/step - loss: 0.8330 - accuracy: 0.7137 - val_loss: 1.0673 - val_accuracy: 0.6810\n",
            "Epoch 14/50\n",
            "56/56 [==============================] - 1s 16ms/step - loss: 0.8165 - accuracy: 0.7128 - val_loss: 1.1099 - val_accuracy: 0.6607\n",
            "Epoch 15/50\n",
            "56/56 [==============================] - 1s 15ms/step - loss: 0.7587 - accuracy: 0.7336 - val_loss: 1.2784 - val_accuracy: 0.6105\n",
            "Epoch 16/50\n",
            "56/56 [==============================] - 1s 15ms/step - loss: 0.7276 - accuracy: 0.7464 - val_loss: 1.2648 - val_accuracy: 0.6237\n",
            "Epoch 16: early stopping\n"
          ]
        }
      ]
    },
    {
      "cell_type": "code",
      "source": [
        "# Plot the the training loss\n",
        "plt.plot(results.history[\"loss\"], label=\"loss\")\n",
        "\n",
        "# Plot the the validation loss\n",
        "plt.plot(results.history[\"val_loss\"], label=\"val_loss\")\n",
        "\n",
        "# Name the x and y axises\n",
        "plt.xlabel(\"Epoch\")\n",
        "plt.ylabel(\"Loss\")\n",
        "\n",
        "# Put legend table\n",
        "plt.legend()\n",
        "\n",
        "# Show the plot\n",
        "plt.show()"
      ],
      "metadata": {
        "colab": {
          "base_uri": "https://localhost:8080/",
          "height": 281
        },
        "id": "twxjRe54hu2y",
        "outputId": "75118127-0e90-4c3a-b24a-2d302e6525da"
      },
      "execution_count": null,
      "outputs": [
        {
          "output_type": "display_data",
          "data": {
            "text/plain": [
              "<Figure size 432x288 with 1 Axes>"
            ],
            "image/png": "[encoded data removed]"
          },
          "metadata": {
            "needs_background": "light"
          }
        }
      ]
    },
    {
      "cell_type": "code",
      "source": [
        "predictions = model.predict(X_test)\n",
        "score = model.evaluate(X_test, y_test)\n",
        "print(score)"
      ],
      "metadata": {
        "colab": {
          "base_uri": "https://localhost:8080/"
        },
        "id": "tWIxGn48hjr-",
        "outputId": "afecf798-bf81-4df9-bf5d-f3a7dfa3dc6c"
      },
      "execution_count": null,
      "outputs": [
        {
          "output_type": "stream",
          "name": "stdout",
          "text": [
            "26/26 [==============================] - 0s 4ms/step - loss: 1.2795 - accuracy: 0.7145\n",
            "[1.2794770002365112, 0.7144607901573181]\n"
          ]
        }
      ]
    }
  ]
}