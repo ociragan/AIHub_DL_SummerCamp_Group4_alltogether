{
  "nbformat": 4,
  "nbformat_minor": 0,
  "metadata": {
    "colab": {
      "provenance": [],
      "collapsed_sections": [],
      "mount_file_id": "1zvr6cfqbS__kI9yIH2yGN9KJ5WsyWQQv",
      "authorship_tag": "ABX9TyMp86qKgr1aDbtBlkAIA9J7",
      "include_colab_link": true
    },
    "kernelspec": {
      "name": "python3",
      "display_name": "Python 3"
    },
    "language_info": {
      "name": "python"
    }
  },
  "cells": [
    {
      "cell_type": "markdown",
      "metadata": {
        "id": "view-in-github",
        "colab_type": "text"
      },
      "source": [
        "<a href=\"https://colab.research.google.com/github/ociragan/AIHub_DL_SummerCamp_Group4_alltogether/blob/main/Urban_Sounds_Classification_Part3.ipynb\" target=\"_parent\"><img src=\"https://colab.research.google.com/assets/colab-badge.svg\" alt=\"Open In Colab\"/></a>"
      ]
    },
    {
      "cell_type": "code",
      "execution_count": null,
      "metadata": {
        "id": "KixpmLUJ9AWQ"
      },
      "outputs": [],
      "source": [
        "import pandas as pd\n",
        "import numpy as np\n",
        "import matplotlib.pyplot as plt\n",
        "import cv2 as cv"
      ]
    },
    {
      "cell_type": "markdown",
      "source": [],
      "metadata": {
        "id": "Hd3YVplPPd_B"
      }
    },
    {
      "cell_type": "code",
      "source": [
        "soundsdf = pd.read_csv(\"/content/drive/MyDrive/UrbanSound8K/metadata/UrbanSound8K.csv\")"
      ],
      "metadata": {
        "id": "A6_hIYQ59c4x"
      },
      "execution_count": null,
      "outputs": []
    },
    {
      "cell_type": "code",
      "source": [
        "folder_lengths = [873, 888, 925, 990, 936, 823, 838, 806, 816, 837]"
      ],
      "metadata": {
        "id": "7QtD95uY9m6R"
      },
      "execution_count": null,
      "outputs": []
    },
    {
      "cell_type": "markdown",
      "source": [
        "X ve y datalarını karıştırmadan kayıt etmek 10'ar tane X ve y dosyası oluşturuldu."
      ],
      "metadata": {
        "id": "gcrs8w1x3GOk"
      }
    },
    {
      "cell_type": "code",
      "source": [
        "listX = []\n",
        "listy = []\n",
        "for i in range (1,11):\n",
        "  listX.append(\"X\"+str(i))\n",
        "  listy.append(\"y\"+str(i))\n",
        "print(listX, listy)\n"
      ],
      "metadata": {
        "colab": {
          "base_uri": "https://localhost:8080/"
        },
        "id": "7qcr73ZGihwC",
        "outputId": "974d3218-5275-4c35-970b-b66fd17b69f6"
      },
      "execution_count": null,
      "outputs": [
        {
          "output_type": "stream",
          "name": "stdout",
          "text": [
            "['X1', 'X2', 'X3', 'X4', 'X5', 'X6', 'X7', 'X8', 'X9', 'X10'] ['y1', 'y2', 'y3', 'y4', 'y5', 'y6', 'y7', 'y8', 'y9', 'y10']\n"
          ]
        }
      ]
    },
    {
      "cell_type": "markdown",
      "source": [
        "Her bir klasördeki resimler ayrı ayrı okunarak resme ait numpy array datası(X) ve sınıfı(y) yine ayrı klasörlere kaydedildi."
      ],
      "metadata": {
        "id": "8NofvJLQ3b--"
      }
    },
    {
      "cell_type": "code",
      "source": [
        "for j in range (10):\n",
        "  foldernumber = str(j+1)\n",
        "  folderlength = folder_lengths[j]\n",
        "  X = []\n",
        "  y = []\n",
        "  for i in range (0, folderlength):\n",
        "    filename = soundsdf[soundsdf[\"fold\"]==int(foldernumber)].iloc[i, 0]\n",
        "    filenumber = filename.split(\".\")[0]\n",
        "    spectrogram_path = \"/content/drive/MyDrive/UrbanSound8K/spectrogram/fold\" + foldernumber + \"/\" + filenumber + \".png\"\n",
        "    img1 = cv.imread(spectrogram_path)\n",
        "    img2 = img1[50:250, 70:270]\n",
        "    img3 = cv.resize(img2, (50,50), interpolation = cv.INTER_AREA)\n",
        "    img4 = (cv.cvtColor(img3, cv.COLOR_BGR2GRAY))/255\n",
        "    X.append(img4)\n",
        "    y.append(int(filenumber.split(\"-\")[1]))\n",
        "  pathtosaveX = \"/content/drive/MyDrive/UrbanSound8K/data1/\" + str(listX[j]) + \".npy\"\n",
        "  pathtosavey = \"/content/drive/MyDrive/UrbanSound8K/data1/\" + str(listy[j]) + \".npy\"\n",
        "  np.save(pathtosaveX, X)\n",
        "  np.save(pathtosavey, y)"
      ],
      "metadata": {
        "id": "OM4yEbW8qtN0"
      },
      "execution_count": null,
      "outputs": []
    }
  ]
}